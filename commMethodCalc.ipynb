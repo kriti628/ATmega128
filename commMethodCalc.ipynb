def binary(n, a, b):
    x = np.linspace(a,b,n)
    y = []
    for num in x:
        rel = num*255/b        
        units = 0
        for i in range(8) :
            rem = rel%2
            if rem == 1:
                units += 3    #1 is converted into dash which is 3 dot units
            if rem ==0:
                units +=1     #for zero one unit is added
            rel = int(rel/2)
        y.append(units + 21)      #additional 21 units are for the 7 gaps between 8 digits
    return y               
    
def hexa(n, a, b):
    x = np.linspace(a,b,n)
    y = []
    a = np.zeros((16,1))     #this array will contain the morse code units for 16 hexadecimal digits
    for i in range(10):
        if i==0 :
            a[0] = 19
        elif i<=5 :
            a[i] = a[i-1]-2
        else:
            a[i] = a[i-1]+2
    a[10] = 5
    a[11] = 9
    a[12] = 11
    a[13] = 7
    a[14] = 1
    a[15] = 9
    for num in x:
        rel = int(num*255/b)
        units = 0
        for i in range(2):
            rem = rel%16
            units += a[rem]
            rel = int(rel/16)
        y.append(units + 3)     #since no. of digits are 2, there's only one gap
    return y            
    
y1 = binary(1000, 0, 3.3)
y2 = hexa(1000, 0, 3.3)

print(np.mean(y1))
print(np.mean(y2))
